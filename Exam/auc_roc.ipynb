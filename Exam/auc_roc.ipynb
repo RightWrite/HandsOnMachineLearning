{
 "cells": [
  {
   "cell_type": "code",
   "execution_count": 40,
   "metadata": {
    "collapsed": true,
    "pycharm": {
     "name": "#%%\n"
    }
   },
   "outputs": [],
   "source": [
    "import numpy as np\n",
    "\n",
    "\n",
    "def roc_curve(y_true, y_prob, thresholds):\n",
    "    fpr = []\n",
    "    tpr = []\n",
    "\n",
    "    for threshold in thresholds:\n",
    "        y_pred = np.where(y_prob >= threshold, 1, 0)\n",
    "\n",
    "        fp = np.sum((y_pred == 1) & (y_true == 0))\n",
    "        tp = np.sum((y_pred == 1) & (y_true == 1))\n",
    "\n",
    "        fn = np.sum((y_pred == 0) & (y_true == 1))\n",
    "        tn = np.sum((y_pred == 0) & (y_true == 0))\n",
    "\n",
    "        fpr.append(fp / (fp + tn))\n",
    "        tpr.append(tp / (tp + fn))\n",
    "\n",
    "    return [fpr,tpr]"
   ]
  },
  {
   "cell_type": "code",
   "execution_count": 41,
   "outputs": [
    {
     "data": {
      "text/plain": "   OUT    M1    M2\n0    1  0.73  0.61\n1    1  0.69  0.03\n2    0  0.44  0.68\n3    0  0.55  0.31\n4    1  0.67  0.45\n5    1  0.47  0.09\n6    0  0.08  0.38\n7    0  0.15  0.05\n8    1  0.45  0.01\n9    0  0.35  0.04",
      "text/html": "<div>\n<style scoped>\n    .dataframe tbody tr th:only-of-type {\n        vertical-align: middle;\n    }\n\n    .dataframe tbody tr th {\n        vertical-align: top;\n    }\n\n    .dataframe thead th {\n        text-align: right;\n    }\n</style>\n<table border=\"1\" class=\"dataframe\">\n  <thead>\n    <tr style=\"text-align: right;\">\n      <th></th>\n      <th>OUT</th>\n      <th>M1</th>\n      <th>M2</th>\n    </tr>\n  </thead>\n  <tbody>\n    <tr>\n      <th>0</th>\n      <td>1</td>\n      <td>0.73</td>\n      <td>0.61</td>\n    </tr>\n    <tr>\n      <th>1</th>\n      <td>1</td>\n      <td>0.69</td>\n      <td>0.03</td>\n    </tr>\n    <tr>\n      <th>2</th>\n      <td>0</td>\n      <td>0.44</td>\n      <td>0.68</td>\n    </tr>\n    <tr>\n      <th>3</th>\n      <td>0</td>\n      <td>0.55</td>\n      <td>0.31</td>\n    </tr>\n    <tr>\n      <th>4</th>\n      <td>1</td>\n      <td>0.67</td>\n      <td>0.45</td>\n    </tr>\n    <tr>\n      <th>5</th>\n      <td>1</td>\n      <td>0.47</td>\n      <td>0.09</td>\n    </tr>\n    <tr>\n      <th>6</th>\n      <td>0</td>\n      <td>0.08</td>\n      <td>0.38</td>\n    </tr>\n    <tr>\n      <th>7</th>\n      <td>0</td>\n      <td>0.15</td>\n      <td>0.05</td>\n    </tr>\n    <tr>\n      <th>8</th>\n      <td>1</td>\n      <td>0.45</td>\n      <td>0.01</td>\n    </tr>\n    <tr>\n      <th>9</th>\n      <td>0</td>\n      <td>0.35</td>\n      <td>0.04</td>\n    </tr>\n  </tbody>\n</table>\n</div>"
     },
     "execution_count": 41,
     "metadata": {},
     "output_type": "execute_result"
    }
   ],
   "source": [
    "\n",
    "M1 = [0.73,\n",
    "      0.69,\n",
    "      0.44,\n",
    "      0.55,\n",
    "      0.67,\n",
    "      0.47,\n",
    "      0.08,\n",
    "      0.15,\n",
    "      0.45,\n",
    "      0.35]\n",
    "M2 = [0.61,\n",
    "      0.03,\n",
    "      0.68,\n",
    "      0.31,\n",
    "      0.45,\n",
    "      0.09,\n",
    "      0.38,\n",
    "      0.05,\n",
    "      0.01,\n",
    "      0.04]\n",
    "OUT = [1,\n",
    "       1,\n",
    "       0,\n",
    "       0,\n",
    "       1,\n",
    "       1,\n",
    "       0,\n",
    "       0,\n",
    "       1,\n",
    "       0]\n",
    "\n",
    "d = {'OUT': OUT, 'M1': M1, 'M2': M2}\n",
    "\n",
    "import  pandas as pd\n",
    "df = pd.DataFrame(d)\n",
    "df"
   ],
   "metadata": {
    "collapsed": false,
    "pycharm": {
     "name": "#%%\n"
    }
   }
  },
  {
   "cell_type": "code",
   "execution_count": 42,
   "outputs": [
    {
     "data": {
      "text/plain": "   OUT    M1    M2  M1_OUT  M2_OUT\n0    1  0.73  0.61       1       1\n1    1  0.69  0.03       1       1\n2    0  0.44  0.68       1       1\n3    0  0.55  0.31       1       1\n4    1  0.67  0.45       1       1\n5    1  0.47  0.09       1       1\n6    0  0.08  0.38       1       1\n7    0  0.15  0.05       1       1\n8    1  0.45  0.01       1       1\n9    0  0.35  0.04       1       1",
      "text/html": "<div>\n<style scoped>\n    .dataframe tbody tr th:only-of-type {\n        vertical-align: middle;\n    }\n\n    .dataframe tbody tr th {\n        vertical-align: top;\n    }\n\n    .dataframe thead th {\n        text-align: right;\n    }\n</style>\n<table border=\"1\" class=\"dataframe\">\n  <thead>\n    <tr style=\"text-align: right;\">\n      <th></th>\n      <th>OUT</th>\n      <th>M1</th>\n      <th>M2</th>\n      <th>M1_OUT</th>\n      <th>M2_OUT</th>\n    </tr>\n  </thead>\n  <tbody>\n    <tr>\n      <th>0</th>\n      <td>1</td>\n      <td>0.73</td>\n      <td>0.61</td>\n      <td>1</td>\n      <td>1</td>\n    </tr>\n    <tr>\n      <th>1</th>\n      <td>1</td>\n      <td>0.69</td>\n      <td>0.03</td>\n      <td>1</td>\n      <td>1</td>\n    </tr>\n    <tr>\n      <th>2</th>\n      <td>0</td>\n      <td>0.44</td>\n      <td>0.68</td>\n      <td>1</td>\n      <td>1</td>\n    </tr>\n    <tr>\n      <th>3</th>\n      <td>0</td>\n      <td>0.55</td>\n      <td>0.31</td>\n      <td>1</td>\n      <td>1</td>\n    </tr>\n    <tr>\n      <th>4</th>\n      <td>1</td>\n      <td>0.67</td>\n      <td>0.45</td>\n      <td>1</td>\n      <td>1</td>\n    </tr>\n    <tr>\n      <th>5</th>\n      <td>1</td>\n      <td>0.47</td>\n      <td>0.09</td>\n      <td>1</td>\n      <td>1</td>\n    </tr>\n    <tr>\n      <th>6</th>\n      <td>0</td>\n      <td>0.08</td>\n      <td>0.38</td>\n      <td>1</td>\n      <td>1</td>\n    </tr>\n    <tr>\n      <th>7</th>\n      <td>0</td>\n      <td>0.15</td>\n      <td>0.05</td>\n      <td>1</td>\n      <td>1</td>\n    </tr>\n    <tr>\n      <th>8</th>\n      <td>1</td>\n      <td>0.45</td>\n      <td>0.01</td>\n      <td>1</td>\n      <td>1</td>\n    </tr>\n    <tr>\n      <th>9</th>\n      <td>0</td>\n      <td>0.35</td>\n      <td>0.04</td>\n      <td>1</td>\n      <td>1</td>\n    </tr>\n  </tbody>\n</table>\n</div>"
     },
     "execution_count": 42,
     "metadata": {},
     "output_type": "execute_result"
    }
   ],
   "source": [
    "threshold=0\n",
    "df['M1_OUT']=np.where(df['M1'] >= threshold, 1, 0)\n",
    "df['M2_OUT']=np.where(df['M2'] >= threshold, 1, 0)\n",
    "df"
   ],
   "metadata": {
    "collapsed": false,
    "pycharm": {
     "name": "#%%\n"
    }
   }
  },
  {
   "cell_type": "code",
   "execution_count": 43,
   "outputs": [
    {
     "data": {
      "text/plain": "array([[0, 5],\n       [0, 5]], dtype=int64)"
     },
     "execution_count": 43,
     "metadata": {},
     "output_type": "execute_result"
    }
   ],
   "source": [
    "from sklearn.metrics import confusion_matrix\n",
    "confusion_matrix(df['OUT'], df['M1_OUT'])"
   ],
   "metadata": {
    "collapsed": false,
    "pycharm": {
     "name": "#%%\n"
    }
   }
  },
  {
   "cell_type": "code",
   "execution_count": 35,
   "outputs": [],
   "source": [
    "\n",
    "# from sklearn import metrics\n",
    "# metrics.roc_curve(df['OUT'], df['M1'], pos_label=1)\n"
   ],
   "metadata": {
    "collapsed": false,
    "pycharm": {
     "name": "#%%\n"
    }
   }
  },
  {
   "cell_type": "code",
   "execution_count": 44,
   "outputs": [
    {
     "data": {
      "text/plain": "[[1.0, 0.6, 0.2, 0.0, 0.0], [1.0, 1.0, 0.6, 0.0, 0.0]]"
     },
     "execution_count": 44,
     "metadata": {},
     "output_type": "execute_result"
    }
   ],
   "source": [
    "roc_curve(y_true=df['OUT'],y_prob=df['M1'],thresholds=[0,0.25,0.5,0.75,1])"
   ],
   "metadata": {
    "collapsed": false,
    "pycharm": {
     "name": "#%%\n"
    }
   }
  },
  {
   "cell_type": "code",
   "execution_count": 45,
   "outputs": [
    {
     "data": {
      "text/plain": "[[1.0, 0.6, 0.2, 0.0, 0.0], [1.0, 0.4, 0.2, 0.0, 0.0]]"
     },
     "execution_count": 45,
     "metadata": {},
     "output_type": "execute_result"
    }
   ],
   "source": [
    "roc_curve(y_true=df['OUT'],y_prob=df['M2'],thresholds=[0,0.25,0.5,0.75,1])"
   ],
   "metadata": {
    "collapsed": false,
    "pycharm": {
     "name": "#%%\n"
    }
   }
  },
  {
   "cell_type": "code",
   "execution_count": 38,
   "outputs": [],
   "source": [
    "from sklearn.metrics import roc_curve\n",
    "\n",
    "fpr, tpr, thresholds = roc_curve(df['OUT'], df['M1'])"
   ],
   "metadata": {
    "collapsed": false,
    "pycharm": {
     "name": "#%%\n"
    }
   }
  },
  {
   "cell_type": "code",
   "execution_count": null,
   "outputs": [],
   "source": [],
   "metadata": {
    "collapsed": false,
    "pycharm": {
     "name": "#%%\n"
    }
   }
  },
  {
   "cell_type": "code",
   "execution_count": 49,
   "outputs": [
    {
     "name": "stdout",
     "output_type": "stream",
     "text": [
      "M1: ROC AUC=0.920\n",
      "M2: ROC AUC=0.400\n"
     ]
    },
    {
     "data": {
      "text/plain": "<Figure size 432x288 with 1 Axes>",
      "image/png": "[encoded data removed]"
     },
     "metadata": {
      "needs_background": "light"
     },
     "output_type": "display_data"
    }
   ],
   "source": [
    "from sklearn.datasets import make_classification\n",
    "from sklearn.linear_model import LogisticRegression\n",
    "from sklearn.model_selection import train_test_split\n",
    "from sklearn.metrics import roc_curve\n",
    "from sklearn.metrics import roc_auc_score\n",
    "from matplotlib import pyplot\n",
    "\n",
    "m1_auc = roc_auc_score(df['OUT'], df['M1'])\n",
    "m2_auc = roc_auc_score(df['OUT'], df['M2'])\n",
    "print('M1: ROC AUC=%.3f' % (m1_auc))\n",
    "print('M2: ROC AUC=%.3f' % (m2_auc))\n",
    "\n",
    "m1_fpr, m1_tpr, _ = roc_curve(df['OUT'], df['M1'])\n",
    "m2_fpr, m2_tpr, _ = roc_curve(df['OUT'], df['M2'])\n",
    "# plot the roc curve for the model\n",
    "pyplot.plot(m1_fpr, m1_tpr, linestyle='--', label='M1')\n",
    "pyplot.plot(m2_fpr, m2_tpr, marker='.', label='M2')\n",
    "# axis labels\n",
    "pyplot.xlabel('False Positive Rate')\n",
    "pyplot.ylabel('True Positive Rate')\n",
    "# show the legend\n",
    "pyplot.legend()\n",
    "# show the plot\n",
    "pyplot.show()"
   ],
   "metadata": {
    "collapsed": false,
    "pycharm": {
     "name": "#%%\n"
    }
   }
  },
  {
   "cell_type": "code",
   "execution_count": 51,
   "outputs": [
    {
     "name": "stdout",
     "output_type": "stream",
     "text": [
      "0.92\n",
      "0.4\n"
     ]
    }
   ],
   "source": [
    "print(0.6*1+0.4*0.8)\n",
    "print(0.4*0.4+0.4*0.6)\n"
   ],
   "metadata": {
    "collapsed": false,
    "pycharm": {
     "name": "#%%\n"
    }
   }
  },
  {
   "cell_type": "markdown",
   "source": [
    "#References:\n",
    "https://machinelearningmastery.com/roc-curves-and-precision-recall-curves-for-classification-in-python/#:~:text=a%20ROC%20curve.-,What%20Are%20ROC%20Curves%3F,values%20between%200.0%20and%201.0.\n",
    "\n",
    "\n",
    "https://mmuratarat.github.io/2019-10-01/how-to-compute-AUC-plot-ROC-by-hand"
   ],
   "metadata": {
    "collapsed": false,
    "pycharm": {
     "name": "#%% md\n"
    }
   }
  }
 ],
 "metadata": {
  "kernelspec": {
   "display_name": "Python 3",
   "language": "python",
   "name": "python3"
  },
  "language_info": {
   "codemirror_mode": {
    "name": "ipython",
    "version": 2
   },
   "file_extension": ".py",
   "mimetype": "text/x-python",
   "name": "python",
   "nbconvert_exporter": "python",
   "pygments_lexer": "ipython2",
   "version": "2.7.6"
  }
 },
 "nbformat": 4,
 "nbformat_minor": 0
}